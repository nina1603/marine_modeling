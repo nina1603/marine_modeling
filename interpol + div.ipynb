{
 "cells": [
  {
   "cell_type": "code",
   "execution_count": 1,
   "metadata": {},
   "outputs": [],
   "source": [
    "import netCDF4\n",
    "import numpy as np\n",
    "import datetime\n",
    "from mpl_toolkits.basemap import Basemap\n",
    "import matplotlib.pyplot as plt\n",
    "%matplotlib inline\n",
    "import math as m\n",
    "import pandas as pd"
   ]
  },
  {
   "cell_type": "code",
   "execution_count": 2,
   "metadata": {},
   "outputs": [],
   "source": [
    "import random\n",
    "from scipy.optimize import minimize"
   ]
  },
  {
   "cell_type": "markdown",
   "metadata": {},
   "source": [
    "### Reading data from file"
   ]
  },
  {
   "cell_type": "code",
   "execution_count": null,
   "metadata": {},
   "outputs": [],
   "source": [
    "f = netCDF4.Dataset('rtofs_glo_3dz_f024_daily_3zvio.nc')\n",
    "print(f)"
   ]
  },
  {
   "cell_type": "code",
   "execution_count": null,
   "metadata": {},
   "outputs": [],
   "source": [
    "f2 = netCDF4.Dataset('rtofs_glo_3dz_f024_daily_3zuio.nc')\n",
    "print(f2)"
   ]
  },
  {
   "cell_type": "code",
   "execution_count": null,
   "metadata": {},
   "outputs": [],
   "source": [
    "print(f.variables.keys()) # get all variable names"
   ]
  },
  {
   "cell_type": "code",
   "execution_count": null,
   "metadata": {},
   "outputs": [],
   "source": [
    "temp = f.variables['v']\n",
    "print(temp)"
   ]
  },
  {
   "cell_type": "code",
   "execution_count": null,
   "metadata": {},
   "outputs": [],
   "source": [
    "for d in f.dimensions.items():\n",
    "    print(d)"
   ]
  },
  {
   "cell_type": "code",
   "execution_count": null,
   "metadata": {},
   "outputs": [],
   "source": [
    "print(temp.dimensions)\n",
    "print(temp.shape)"
   ]
  },
  {
   "cell_type": "code",
   "execution_count": null,
   "metadata": {},
   "outputs": [],
   "source": [
    "mt = f.variables['MT']\n",
    "depth = f.variables['Depth']\n",
    "x,y = f.variables['X'], f.variables['Y']\n",
    "v = f.variables['v']\n",
    "u = f2.variables['u']\n",
    "print(mt)\n",
    "print(x)\n",
    "print(v)\n",
    "print(u)"
   ]
  },
  {
   "cell_type": "markdown",
   "metadata": {},
   "source": [
    "#### Shapes of basic arrays"
   ]
  },
  {
   "cell_type": "code",
   "execution_count": null,
   "metadata": {},
   "outputs": [],
   "source": [
    "print(x.shape[0])\n",
    "print(y.shape[0])"
   ]
  },
  {
   "cell_type": "markdown",
   "metadata": {},
   "source": [
    "#### Time and depth variables"
   ]
  },
  {
   "cell_type": "code",
   "execution_count": null,
   "metadata": {},
   "outputs": [],
   "source": [
    "time = mt[:]  # Reads the netCDF variable MT, array of one element\n",
    "print(time)\n",
    "dep = depth[:] # examine depth array\n",
    "print(dep)"
   ]
  },
  {
   "cell_type": "markdown",
   "metadata": {},
   "source": [
    "### Extracting lats and lons "
   ]
  },
  {
   "cell_type": "code",
   "execution_count": null,
   "metadata": {},
   "outputs": [],
   "source": [
    "xx,yy = x[:],y[:]\n",
    "print('shape of temp variable: %s' % repr(temp.shape))\n",
    "tempslice = temp[0, dep < 100., yy > yy.max()/2, xx > xx.max()/2]\n",
    "print('shape of temp slice: %s' % repr(tempslice.shape))"
   ]
  },
  {
   "cell_type": "code",
   "execution_count": null,
   "metadata": {},
   "outputs": [],
   "source": [
    "lat, lng = f.variables['Latitude'], f.variables['Longitude']\n",
    "print(lng)"
   ]
  },
  {
   "cell_type": "code",
   "execution_count": null,
   "metadata": {},
   "outputs": [],
   "source": [
    "# extract lat/lon values (in degrees) to numpy arrays\n",
    "latvals = lat[:]; lngvals = lng[:] \n",
    "# a function to find the index of the point closest pt (in squared distance) to give lat/lon value.\n",
    "def getclosest_ij(lats,lngs,latpt,lngpt):\n",
    "    # find squared distance of every point on grid\n",
    "    dist_sq = (lats-latpt)**2 + (lngs-lngpt)**2  \n",
    "    # 1D index of minimum dist_sq element\n",
    "    minindex_flat = dist_sq.argmin()    \n",
    "    # Get 2D index for latvals and lonvals arrays from 1D index\n",
    "    return np.unravel_index(minindex_flat, lats.shape)\n",
    "iy_min, ix_min = getclosest_ij(latvals, lngvals, 50., -140)\n",
    "print(iy_min, ix_min)"
   ]
  },
  {
   "cell_type": "markdown",
   "metadata": {},
   "source": [
    "## Initial attempt of point search"
   ]
  },
  {
   "cell_type": "markdown",
   "metadata": {},
   "source": [
    "### Решаем задачу: зная широту и долготу, найти квадрат (4 точки со значениями y и x) такой, что исходная точка лежит в этом квадрате"
   ]
  },
  {
   "cell_type": "code",
   "execution_count": null,
   "metadata": {},
   "outputs": [],
   "source": [
    "def pointSearch(pLat, pLng):\n",
    "    goalX = -1\n",
    "    goalY = -1\n",
    "    epsX = 100.\n",
    "    epsY = 100.\n",
    "    for i in range(x.shape[0] - 1):\n",
    "        if ((lngvals[0, i] - 255. <= pLng) & (lngvals[0, i + 1] - 255. > pLng) & (epsX > 0.01)):\n",
    "            goalX = i\n",
    "            epsX = pLng -  lngvals[0, i] + 255.\n",
    "    if (goalX == -1):\n",
    "        print('Smth with X went wrong')\n",
    "\n",
    "    for j in range(y.shape[0] - 1):\n",
    "        if (lngvals[j, goalX] - 255. > pLng):\n",
    "            while (lngvals[j, goalX] - 255. > pLng):\n",
    "                goalX -= 1\n",
    "        if (lngvals[j, goalX + 1] - 255. < pLng):\n",
    "            while (lngvals[j, goalX] - 255. < pLng):\n",
    "                goalX += 1\n",
    "        if ((latvals[j, goalX] <= pLat) & (latvals[j + 1, goalX] > pLat) & (epsY > 0.01)):\n",
    "            goalY = j\n",
    "            epsY = pLat - latvals[j, goalX]\n",
    "    if (goalY == -1):\n",
    "        print('Smth went wrong with Y')\n",
    "            \n",
    "            \n",
    "    print(goalX, goalY)\n",
    "    return (goalY, goalX)"
   ]
  },
  {
   "cell_type": "code",
   "execution_count": null,
   "metadata": {},
   "outputs": [],
   "source": [
    "a = pointSearch(78., -120.)\n",
    "print(a)\n",
    "print(latvals[a], lngvals[a])"
   ]
  },
  {
   "cell_type": "code",
   "execution_count": null,
   "metadata": {},
   "outputs": [],
   "source": [
    "print(latvals[3297, 4400])\n",
    "print(latvals[3270, 4400])\n",
    "print(lngvals[3297, 4400])\n",
    "print(lngvals[3270, 4400])"
   ]
  },
  {
   "cell_type": "code",
   "execution_count": null,
   "metadata": {},
   "outputs": [],
   "source": [
    "print(lngvals[0, 0])\n",
    "print(lngvals[0, 4499])\n",
    "print(lngvals[3297, 0])\n",
    "print(lngvals[3297, 4499])"
   ]
  },
  {
   "cell_type": "code",
   "execution_count": null,
   "metadata": {},
   "outputs": [],
   "source": [
    "print(lngvals.min())\n",
    "print(lngvals[0:3296, :].max())"
   ]
  },
  {
   "cell_type": "code",
   "execution_count": null,
   "metadata": {},
   "outputs": [],
   "source": [
    "print(latvals.min())\n",
    "print(latvals.max())"
   ]
  },
  {
   "cell_type": "code",
   "execution_count": null,
   "metadata": {},
   "outputs": [],
   "source": [
    "def cellIdentBool(P1, P2, P3, P4, P):\n",
    "    ex = [P2[0]-P1[0],P2[1]-P1[1]]\n",
    "    ey = [P4[0]-P1[0],P4[1]-P1[1]]\n",
    "    exs = [P4[0]-P3[0],P4[1]-P3[1]]\n",
    "    eys = [P2[0]-P3[0],P2[1]-P3[1]]\n",
    "    #print('ex, ey, exs, eys:', ex, ey, exs, eys)\n",
    "    \n",
    "    a = np.array([[ex[0], ey[0]], [ex[1], ey[1]]])\n",
    "    b = np.array([P[0]-P1[0], P[1]-P1[1]])\n",
    "    #print(\"A, b:\", a, b)\n",
    "    xxx = np.linalg.solve(a, b)\n",
    "    c = np.array([[exs[0], eys[0]], [exs[1], eys[1]]])\n",
    "    b = np.array([P[0]-P3[0], P[1]-P3[1]])\n",
    "    yyy = np.linalg.solve(c, b)\n",
    "    #if ((xxx[0]>=0 == False) or ([xxx[1]>=0] == False) or ([yyy[0]>=0] == False) or ([yyy[1]>=0] == False)):\n",
    "     #   return False\n",
    "    #else:\n",
    "    return ([xxx[0]>=0], [xxx[1]>=0], [yyy[0]>=0], [yyy[1]>=0])\n",
    "    #return ((xxx[0]>=0) and (xxx[1]>=0) and (yyy[0]>=0) and (yyy[1]>=0))"
   ]
  },
  {
   "cell_type": "code",
   "execution_count": null,
   "metadata": {},
   "outputs": [],
   "source": [
    "print(cellIdentBool([-58.394382, 122.079956], [-58.352432, 122.079956], \\\n",
    "                    [-58.352432, 122.160034], [-58.394382, 122.160034], [-37.352833, 122.160034]))\n"
   ]
  },
  {
   "cell_type": "code",
   "execution_count": null,
   "metadata": {},
   "outputs": [],
   "source": [
    "print(cellIdentBool([latvals[1000, 600], lngvals[1000, 600]], \\\n",
    "                     [latvals[1000, 601], lngvals[1000, 601]], \\\n",
    "                     [latvals[1001, 601], lngvals[1001, 601]], \\\n",
    "                     [latvals[1001, 600], lngvals[1001, 600]], \\\n",
    "                     [latvals[600, 599], lngvals[600, 599]]))"
   ]
  },
  {
   "cell_type": "code",
   "execution_count": null,
   "metadata": {},
   "outputs": [],
   "source": [
    "print(cellIdentBool([0.,0.], [1.,0.], [1.,1.], [0.,1.], [-0.5,-0.6]))"
   ]
  },
  {
   "cell_type": "code",
   "execution_count": null,
   "metadata": {},
   "outputs": [],
   "source": [
    "print(lngvals[1516, 4498], latvals[1516, 4498])\n",
    "print(lngvals[1516, 4499], latvals[1516, 4499])\n",
    "print(lngvals[1516, 0], latvals[1516, 0])"
   ]
  },
  {
   "cell_type": "markdown",
   "metadata": {},
   "source": [
    "### Final (so far) version of cell search"
   ]
  },
  {
   "cell_type": "code",
   "execution_count": null,
   "metadata": {},
   "outputs": [],
   "source": [
    "def imod(i):\n",
    "    return i % x.shape[0]\n",
    "\n",
    "def jmod(j):\n",
    "    return j % y.shape[0]"
   ]
  },
  {
   "cell_type": "code",
   "execution_count": null,
   "metadata": {},
   "outputs": [],
   "source": [
    "def searchPoint(pLat, pLng):\n",
    "    if (pLat < -78.64):\n",
    "        pLat = 89.\n",
    "    if (pLat > 89.9502):\n",
    "        pLat = -78.\n",
    "    if (pLng < 74.119995):\n",
    "        pLng = 494.\n",
    "    if (pLng > 494.11987):\n",
    "        pLng = 74.\n",
    "    res = False\n",
    "    i = int(x.shape[0] / 2)\n",
    "    j = int(y.shape[0] / 2)\n",
    "    counter = 0\n",
    "    goal = [-1, -1]\n",
    "    while (res == False):\n",
    "        counter += 1\n",
    "        if (counter > 8000):\n",
    "            return [j, i, False]\n",
    "        \n",
    "        j = jmod(j)\n",
    "        i = imod(i)\n",
    "        \n",
    "        #p1 = [lngvals[j, i], latvals[j, i]] \n",
    "        #p2 = [lngvals[j, imod(i+1)], latvals[j, imod(i+1)]]\n",
    "        #p3 = [lngvals[jmod(j+1), imod(i+1)], latvals[jmod(j+1), imod(i+1)]]\n",
    "        #p4 = [lngvals[jmod(j+1), i], latvals[jmod(j+1), i]]\n",
    "        #p = [pLng, pLat]\n",
    "        p1 = [latvals[j, i], lngvals[j, i]] \n",
    "        p2 = [latvals[j, imod(i+1)], lngvals[j, imod(i+1)]]\n",
    "        p3 = [latvals[jmod(j+1), imod(i+1)], lngvals[jmod(j+1), imod(i+1)]]\n",
    "        p4 = [latvals[jmod(j+1), i], lngvals[jmod(j+1), i]]\n",
    "        p = [pLat, pLng]\n",
    "        out = cellIdentBool(p1, p2, p3, p4, p)\n",
    "        #if (counter > 7990):\n",
    "            #print(out)\n",
    "        if ((not out[0][0]) | (not out[1][0])) :\n",
    "            if (not out[0][0]):\n",
    "                i = imod((i-1))\n",
    "            if (not out[1][0]):\n",
    "                j = jmod((j-1))\n",
    "        else:\n",
    "            if (not out[2][0]):\n",
    "                i = imod((i+1))\n",
    "            if (not out[3][0]):\n",
    "                j = jmod((j+1))\n",
    "        if ((out[0][0]) and (out[1][0]) and (out[2][0]) and (out[1][0])):\n",
    "            res = True\n",
    "            goal = [j, i, res]\n",
    "    return goal"
   ]
  },
  {
   "cell_type": "code",
   "execution_count": null,
   "metadata": {},
   "outputs": [],
   "source": [
    "print(latvals[1000, 600], lngvals[1000, 600])\n",
    "print(latvals[600, 599], lngvals[600,599])\n",
    "print(latvals[601, 599], lngvals[601,599])\n",
    "print(latvals[600, 600], lngvals[600,600])\n",
    "print(latvals[601, 600], lngvals[601,600])"
   ]
  },
  {
   "cell_type": "code",
   "execution_count": null,
   "metadata": {},
   "outputs": [],
   "source": [
    "searchPoint(latvals[1000, 600], lngvals[1000, 600])"
   ]
  },
  {
   "cell_type": "code",
   "execution_count": null,
   "metadata": {},
   "outputs": [],
   "source": [
    "goal = searchPoint(0., 1.)\n",
    "print(goal)\n",
    "print(goal == None)\n",
    "if (goal != None):\n",
    "    print(latvals[goal[0], goal[1]], lngvals[goal[0], goal[1]])"
   ]
  },
  {
   "cell_type": "code",
   "execution_count": null,
   "metadata": {},
   "outputs": [],
   "source": [
    "#3298 4500 \n",
    "def cellRho(lats, lngs):\n",
    "    # takes two arrays with first 4 comps as coords of cell knots and fifth comps as coords of given point\n",
    "    return np.sqrt(sum(((lats[i] - lats[4])**2 + (lngs[i] - lngs[4])**2) for i in range(0, 4)))\n",
    "\n",
    "def cellForm(y, x, goal):\n",
    "    lats = [latvals[y, x], latvals[jmod(y+1), x], latvals[y, imod(x+1)], latvals[jmod(y+1), imod(x+1)], goal[0]]\n",
    "    lngs = [lngvals[y, x], lngvals[jmod(y+1), x], lngvals[y, imod(x+1)], lngvals[jmod(y+1), imod(x+1)], goal[1]]\n",
    "    return [lats, lngs]\n",
    "\n",
    "def cellRhoMinimize(LL, goal, booly):\n",
    "    res = cellRho(cellForm(LL[0], LL[1], goal)[0], cellForm(LL[0], LL[1], goal)[1])\n",
    "    igoal = LL[1]\n",
    "    jgoal = LL[0]\n",
    "    \n",
    "    if (booly == True):\n",
    "        eps = 20\n",
    "    else:\n",
    "        eps = 300\n",
    "        \n",
    "    i = imod(LL[1] - eps)\n",
    "    j = jmod(LL[0] - eps)\n",
    "    counter1 = 0\n",
    "    counter2 = 0\n",
    "    while (counter1 < 2 * eps):\n",
    "        while (counter2 < 2 * eps):\n",
    "            counter2 += 1\n",
    "            actualRho = cellRho(cellForm(j, i, goal)[0], cellForm(j, i, goal)[1])\n",
    "            #print('i, j, rho: ' + str(i) + '  ' + str(j) + '  ' + str(actualRho))\n",
    "            if (actualRho < res):\n",
    "                res = actualRho\n",
    "                igoal = i\n",
    "                jgoal = j\n",
    "            i = imod(i + 1)\n",
    "        counter2 = 0\n",
    "        counter1 += 1\n",
    "        j = jmod(j + 1)\n",
    "        i = imod(LL[1] - eps)\n",
    "            \n",
    "    return [res, jgoal, igoal]"
   ]
  },
  {
   "cell_type": "code",
   "execution_count": null,
   "metadata": {},
   "outputs": [],
   "source": [
    "def minim(pLat, pLng):\n",
    "    result = searchPoint(pLat, pLng)\n",
    "    LL = result[0:2] #returns [j,i]\n",
    "    booly = result[2]\n",
    "\n",
    "    LU = [jmod(LL[0] + 1), LL[1]]\n",
    "    RL = [LL[0], imod(LL[1] + 1)]\n",
    "    RU = [jmod(LL[0] + 1), imod(LL[0] + 1)]\n",
    "    localLats = [latvals[LL[0], LL[1]], latvals[LU[0], LU[1]], latvals[RL[0], RL[1]], latvals[RU[0], RU[1]], pLat]\n",
    "    localLngs = [lngvals[LL[0], LL[1]], lngvals[LU[0], LU[1]], lngvals[RL[0], RL[1]], lngvals[RU[0], RU[1]], pLng]\n",
    "    print('given: ' + str(pLat) + ', ' + str(pLng))\n",
    "    print('LL: ' + str(LL[0]) + ', ' + str(LL[1]))\n",
    "    print('LU: ' + str(LU[0]) + ', ' + str(LU[1]))\n",
    "    print('RL: ' + str(RL[0]) + ', ' + str(RL[1]))\n",
    "    print('RU: ' + str(RU[0]) + ', ' + str(RU[1]))\n",
    "    print('coords of cell are: \\n' + str(latvals[LL[0], LL[1]]) + ', ' + str(lngvals[LL[0], LL[1]]) + '\\n')\n",
    "    print(str(latvals[LU[0], LU[1]]) + ', ' + str(lngvals[LU[0], LU[1]]) + '\\n')\n",
    "    print(str(latvals[RL[0], RL[1]]) + ', ' + str(lngvals[RL[0], RL[1]]) + '\\n')\n",
    "    print(str(latvals[RU[0], RU[1]]) + ', ' + str(lngvals[RU[0], RU[1]]) + '\\n')\n",
    "    res = cellRhoMinimize(LL, [pLat, pLng], booly)\n",
    "    rho = res[0]\n",
    "    jgoal = res[1]\n",
    "    igoal = res[2]\n",
    "    booly = result[2]\n",
    "    print('distance in cell is: ')\n",
    "    print('rho ' + str(rho))\n",
    "    print('j ' + str(jgoal))\n",
    "    print('i ' + str(igoal))\n",
    "    return res, booly\n",
    "    \n",
    "print(minim(0., 1.))\n",
    "print(minim(latvals[1000, 600], lngvals[1000, 600]))"
   ]
  },
  {
   "cell_type": "markdown",
   "metadata": {},
   "source": [
    "### Speed define"
   ]
  },
  {
   "cell_type": "code",
   "execution_count": null,
   "metadata": {},
   "outputs": [],
   "source": [
    "print(v.shape)\n",
    "print(u.shape)"
   ]
  },
  {
   "cell_type": "code",
   "execution_count": null,
   "metadata": {
    "scrolled": true
   },
   "outputs": [],
   "source": [
    "MT = mt[:]\n",
    "print(v[0, 0, :, :].shape)"
   ]
  },
  {
   "cell_type": "code",
   "execution_count": null,
   "metadata": {
    "scrolled": true
   },
   "outputs": [],
   "source": [
    "print(sum(u[0, 0, :, :]))"
   ]
  },
  {
   "cell_type": "code",
   "execution_count": null,
   "metadata": {},
   "outputs": [],
   "source": [
    "speed = np.zeros((2, dep.shape[0], y.shape[0], x.shape[0]))\n",
    "for i in range(len(dep)):\n",
    "    speed[0, i, :, :] = u[0, i, :, :]"
   ]
  },
  {
   "cell_type": "code",
   "execution_count": null,
   "metadata": {},
   "outputs": [],
   "source": [
    "for i in range(len(dep)):\n",
    "    speed[1, i, :, :] = v[0, i, :, :]"
   ]
  },
  {
   "cell_type": "code",
   "execution_count": null,
   "metadata": {},
   "outputs": [],
   "source": [
    "print(speed[:, 0, 2400, 3070])"
   ]
  },
  {
   "cell_type": "code",
   "execution_count": null,
   "metadata": {},
   "outputs": [],
   "source": [
    "print sum(sum(speed[1, 0, :, :]))"
   ]
  },
  {
   "cell_type": "markdown",
   "metadata": {},
   "source": [
    "## New bilinear Interpolation"
   ]
  },
  {
   "cell_type": "code",
   "execution_count": null,
   "metadata": {},
   "outputs": [],
   "source": [
    "def triangleInterpol(point, dep = 0):\n",
    "    cellInfo, booly = minim(point[0], point[1])\n",
    "    cellLL = cellInfo[1:3]\n",
    "    cellLU = [jmod(cellLL[0] + 1), imod(cellLL[1])]\n",
    "    cellRL = [jmod(cellLL[0]), imod(cellLL[1] + 1)]\n",
    "    cellRU = [jmod(cellLL[0] + 1), imod(cellLL[1] + 1)]\n",
    "    vPointX = 0.\n",
    "    vPointY = 0.\n",
    "    isWater = False\n",
    "    \n",
    "    angles = np.zeros((4,3))\n",
    "    \n",
    "    xLL = [latvals[cellLL[0], cellLL[1]], lngvals[cellLL[0], cellLL[1]]]\n",
    "    xLU = [latvals[cellLU[0], cellLU[1]], lngvals[cellLU[0], cellLU[1]]]\n",
    "    xRL = [latvals[cellRL[0], cellRL[1]], lngvals[cellRL[0], cellRL[1]]]\n",
    "    xRU = [latvals[cellRU[0], cellRU[1]], lngvals[cellRU[0], cellRU[1]]]\n",
    "    an1 = cosan(xLL, xLU, xRL)\n",
    "    an2 = cosan(xLU, xRL, xLL)\n",
    "    an3 = cosan(xRL, xLL, xLU)\n",
    "    an4 = cosan(xLU, xRU, xRL)\n",
    "    an5 = cosan(xRL, xLU, xRU)\n",
    "    an6 = cosan(xRU, xRL, xLU)\n",
    "    \n",
    "    angles[0] = [an1, an2, an3]\n",
    "    angles[1] = [an4, an5, an6]\n",
    "    \n",
    "    \n",
    "    #чем меньше an, тем больше угол\n",
    "    \n",
    "    an7 = cosan(xLL, xLU, xRU)\n",
    "    an8 = cosan(xLU, xRU, xLL)\n",
    "    an9 = cosan(xRU, xLL, xLU)\n",
    "    an10 = cosan(xRU, xRL, xLL)\n",
    "    an11 = cosan(xRL, xRU, xLL)\n",
    "    an12 = cosan(xLL, xRU, xRL)\n",
    "    \n",
    "    angles[2] = [an7, an8, an9]\n",
    "    angles[3] = [an10, an11, an12]\n",
    "    \n",
    "    trNum = [xLL, xRL, xLU]\n",
    "\n",
    "    booly1 = [trianIdentBool(xLL, xRL, xLU, point), trianIdentBool(xRU, xRL, xLU, point)]\n",
    "    booly2 = [trianIdentBool(xLL, xLU, xRU, point), trianIdentBool(xLL, xRU, xRL, point)]\n",
    "    if (booly1[0] == True):\n",
    "        max1 = min(angles[0])\n",
    "        if(booly2[0] == True):\n",
    "            max2 = min(angles[2])\n",
    "            if (max1 < max2):\n",
    "                trNum = [xLL, xRL, xLU]\n",
    "            else:\n",
    "                trNum = [xLL, xLU, xRU]\n",
    "                \n",
    "        elif(booly2[1] == True):\n",
    "            max2 = min(angles[3])\n",
    "            if (max1 < max2):\n",
    "                trNum = [xLL, xRL, xLU]\n",
    "            else:\n",
    "                trNum = [xLL, xRU, xRL]\n",
    "    elif(booly1[1] == True):\n",
    "        max1 = min(angles[1])\n",
    "        if(booly2[0] == True):\n",
    "            max2 = min(angles[2])\n",
    "            if (max1 < max2):\n",
    "                trNum = [xRU, xRL, xLU]\n",
    "            else:\n",
    "                trNum = [xLL, xLU, xRU]\n",
    "        elif(booly2[1] == True):\n",
    "            max2 = min(angles[3])\n",
    "            if (max1 < max2):\n",
    "                trNum = [xRU, xRL, xLU]\n",
    "            else:\n",
    "                trNum = [xLL, xRU, xRL]\n",
    "    \n",
    "    print('Point: ', point)\n",
    "    print('x1:' , trNum[0])\n",
    "    print('x2:' , trNum[1])\n",
    "    print('x3:' , trNum[2])\n",
    "    \n",
    "    \n",
    "    weight = np.zeros(3)\n",
    "    xxx = basicCoords(trNum[0], trNum[1], trNum[2], point)\n",
    "    weight[0] = 1 - xxx[0] - xxx[1]\n",
    "    xxx = basicCoords(trNum[1], trNum[2], trNum[0], point)\n",
    "    weight[1] = 1 - xxx[0] - xxx[1]\n",
    "    xxx = basicCoords(trNum[2], trNum[0], trNum[1], point)\n",
    "    weight[2] = 1 - xxx[0] - xxx[1]\n",
    "    print('Weights: ', weight[0], weight[1], weight[2])\n",
    "    \n",
    "    #kostyl\n",
    "    if (trNum == [xLL, xRL, xLU]):\n",
    "        cells = [cellLL, cellRL, cellLU]\n",
    "    elif(trNum == [xLL, xLU, xRU]):\n",
    "        cells = [cellLL, cellLU, cellRU]\n",
    "    elif(trNum == [xLL, xRU, xRL]):\n",
    "        cells = [cellLL, cellRU, cellRL]\n",
    "    elif(trNum == [xRU, xRL, xLU]):\n",
    "        cells = [RU, RL, LU]\n",
    "    \n",
    "    print('speed:', speed[:, dep, cellLL[0], cellLL[1]], speed[:, dep, cellLU[0], cellLU[1]],\\\n",
    "            speed[:, dep, cellRL[0], cellRL[1]], speed[:, dep, cellRU[0], cellRU[1]])\n",
    "    \n",
    "    \n",
    "    if (speed[0, dep, cells[0][0], cells[0][1]] < 1e+30):\n",
    "        isWater = True\n",
    "        v11 = speed[0, dep,cells[0][0], cells[0][1]]\n",
    "        #print(v11)\n",
    "        vPointX += v11 * weight[0]\n",
    "\n",
    "    if (speed[0, dep, cells[1][0], cells[1][1]] < 1e+30):\n",
    "        isWater = True\n",
    "        v21 = speed[0, dep, cells[1][0], cells[1][1]]\n",
    "        #print(v21)\n",
    "        vPointX += v21 * weight[1]\n",
    "        \n",
    "    if (speed[0, dep, cells[2][0], cells[2][1]] < 1e+30):\n",
    "        isWater = True\n",
    "        v12 = speed[0, dep, cells[2][0], cells[2][1]]\n",
    "        #print(v12)\n",
    "        vPointX += v12 * weight[2]\n",
    "        \n",
    "        \n",
    "        \n",
    "    if (speed[1, dep, cells[0][0], cells[0][1]] < 1e+30):\n",
    "        isWater = True\n",
    "        v11 = speed[1, dep,cells[0][0], cells[0][1]]\n",
    "        #print(v11)\n",
    "        vPointY += v11 * weight[0]\n",
    "\n",
    "    if (speed[1, dep, cells[1][0], cells[1][1]] < 1e+30):\n",
    "        isWater = True\n",
    "        v21 = speed[1, dep, cells[1][0], cells[1][1]]\n",
    "        #print(v21)\n",
    "        vPointY += v21 * weight[1]\n",
    "        \n",
    "    if (speed[1, dep, cells[2][0], cells[2][1]] < 1e+30):\n",
    "        isWater = True\n",
    "        v12 = speed[1, dep, cells[2][0], cells[2][1]]\n",
    "        #print(v12)\n",
    "        vPointY += v12 * weight[2]\n",
    "    \n",
    "    return cellLL, cellLU, cellRL, cellRU, [vPointX, vPointY]"
   ]
  },
  {
   "cell_type": "code",
   "execution_count": null,
   "metadata": {},
   "outputs": [],
   "source": [
    "def leng(x1, x2):\n",
    "    return np.sqrt((x2[0] - x1[0]) ** 2 + (x2[1] - x1[1]) ** 2)\n",
    "\n",
    "def scal(x1, x2, x3):\n",
    "    return (x2[1] - x1[1]) * (x3[1] - x1[1]) + (x2[0] - x1[0]) * (x3[0] - x1[0])\n",
    "\n",
    "def cosan(x1, x2, x3):\n",
    "    return scal(x1, x2, x3) / (leng(x1, x2) * leng(x1, x3))\n",
    "\n",
    "def trianIdentBool(P1, P2, P3, P):\n",
    "    ex = [P2[0]-P1[0],P2[1]-P1[1]]\n",
    "    ey = [P3[0]-P1[0], P3[1]-P1[1]]\n",
    "    exs = [P1[0]-P2[0],P1[1]-P2[1]]\n",
    "    eys = [P3[0]-P2[0],P3[1]-P2[1]]\n",
    "    #print('ex, ey, exs, eys:', ex, ey, exs, eys)\n",
    "    \n",
    "    a = np.array([[ex[0], ey[0]], [ex[1], ey[1]]])\n",
    "    b = np.array([P[0]-P1[0], P[1]-P1[1]])\n",
    "\n",
    "    try:\n",
    "        xxx = np.linalg.solve(a, b)\n",
    "    except:\n",
    "        print('ex, ey, exs, eys: ', ex, ey, exs, eys)\n",
    "        print(\"A, b: \", a, b)\n",
    "    c = np.array([[exs[0], eys[0]], [exs[1], eys[1]]])\n",
    "    b = np.array([P[0]-P3[0], P[1]-P3[1]])\n",
    "    try:\n",
    "        yyy = np.linalg.solve(c, b)\n",
    "    except:\n",
    "        print('ex, ey, exs, eys: ', ex, ey, exs, eys)\n",
    "        print(\"C, b: \", c, b)\n",
    "        \n",
    "    return ((xxx[0]>=0) and (xxx[1]>=0) and (yyy[0]>=0) and (yyy[1]>=0))\n",
    "\n",
    "def basicCoords(P1, P2, P3, P):\n",
    "    ex = [P2[0]-P1[0],P2[1]-P1[1]]\n",
    "    ey = [P3[0]-P1[0],P3[1]-P1[1]]\n",
    "    #print('ex, ey, exs, eys:', ex, ey, exs, eys)\n",
    "    \n",
    "    a = np.array([[ex[0], ey[0]], [ex[1], ey[1]]])\n",
    "    b = np.array([P[0]-P1[0], P[1]-P1[1]])\n",
    "    #print(\"A, b:\", a, b)\n",
    "    try:\n",
    "        xxx = np.linalg.solve(a, b)\n",
    "    except:\n",
    "        print('ex, ey, exs, eys: ', ex, ey, exs, eys)\n",
    "        print(\"A, b: \", a, b)\n",
    "    return xxx"
   ]
  },
  {
   "cell_type": "code",
   "execution_count": null,
   "metadata": {},
   "outputs": [],
   "source": [
    "a = triangleInterpol([10., 80.])\n",
    "print(a)"
   ]
  },
  {
   "cell_type": "code",
   "execution_count": null,
   "metadata": {},
   "outputs": [],
   "source": [
    "triangleInterpol([-10., 180.])"
   ]
  },
  {
   "cell_type": "code",
   "execution_count": null,
   "metadata": {},
   "outputs": [],
   "source": [
    "triangleInterpol([-40., 90.])"
   ]
  },
  {
   "cell_type": "code",
   "execution_count": null,
   "metadata": {},
   "outputs": [],
   "source": [
    "triangleInterpol([75., 400.])"
   ]
  },
  {
   "cell_type": "code",
   "execution_count": null,
   "metadata": {},
   "outputs": [],
   "source": [
    "triangleInterpol([51., 320.])"
   ]
  },
  {
   "cell_type": "markdown",
   "metadata": {},
   "source": [
    "### Real data"
   ]
  },
  {
   "cell_type": "code",
   "execution_count": null,
   "metadata": {},
   "outputs": [],
   "source": [
    "file = pd.read_csv('sample.csv')"
   ]
  },
  {
   "cell_type": "code",
   "execution_count": null,
   "metadata": {},
   "outputs": [],
   "source": [
    "file.shape"
   ]
  },
  {
   "cell_type": "code",
   "execution_count": null,
   "metadata": {},
   "outputs": [],
   "source": [
    "file.head()"
   ]
  },
  {
   "cell_type": "code",
   "execution_count": null,
   "metadata": {},
   "outputs": [],
   "source": [
    "file.columns"
   ]
  },
  {
   "cell_type": "code",
   "execution_count": null,
   "metadata": {},
   "outputs": [],
   "source": [
    "data = file['TARA_20091118T0841Z_023_EVENT_PUMP_P_S_(5-7m)_BACT_NUC-DNA(100L)_W0.22-1.6_TARA_E500000075\\t42.2038\\t17.715\\t3\\t7']"
   ]
  },
  {
   "cell_type": "code",
   "execution_count": null,
   "metadata": {},
   "outputs": [],
   "source": [
    "latits = []\n",
    "longs = []\n",
    "depths1 = []\n",
    "depths2 = []"
   ]
  },
  {
   "cell_type": "code",
   "execution_count": null,
   "metadata": {},
   "outputs": [],
   "source": [
    "FILE =  open('sample.csv')"
   ]
  },
  {
   "cell_type": "code",
   "execution_count": null,
   "metadata": {
    "scrolled": false
   },
   "outputs": [],
   "source": [
    "for line in FILE.readlines():\n",
    "    fields = line.split('\\t')\n",
    "    latits.append(float(fields[1]))\n",
    "    longs.append(float(fields[2]) + 255.)\n",
    "    depths1.append(int(fields[3]))\n",
    "    depths2.append(int(fields[4]))"
   ]
  },
  {
   "cell_type": "code",
   "execution_count": null,
   "metadata": {},
   "outputs": [],
   "source": [
    "len(longs)"
   ]
  },
  {
   "cell_type": "code",
   "execution_count": null,
   "metadata": {},
   "outputs": [],
   "source": [
    "for i in range(len(longs)):\n",
    "    dep1 = int(depths1[i] / 10)\n",
    "    dep2 = int(depths2[i] / 10)\n",
    "    print(dep1, dep2)\n",
    "    triangleInterpol([latits[i], longs[i]], dep1)\n",
    "    triangleInterpol([latits[i], longs[i]], dep2)"
   ]
  },
  {
   "cell_type": "markdown",
   "metadata": {},
   "source": [
    "### Divergence"
   ]
  },
  {
   "cell_type": "code",
   "execution_count": null,
   "metadata": {},
   "outputs": [],
   "source": [
    "speed.shape"
   ]
  },
  {
   "cell_type": "code",
   "execution_count": null,
   "metadata": {},
   "outputs": [],
   "source": [
    "import csv"
   ]
  },
  {
   "cell_type": "code",
   "execution_count": null,
   "metadata": {},
   "outputs": [],
   "source": [
    "def countFlo(point, dep = 0):\n",
    "    cellLL, cellLU, cellRL, cellRU, [vPointX, vPointY] = triangleInterpol(point)\n",
    "    meanSpeed = 0.25 * (speed[:, dep, cellLL[0], cellLL[1]] + speed[:, dep, cellLU[0], cellLU[1]] +\\\n",
    "                        speed[:, dep, cellRL[0], cellRL[1]] + speed[:, dep, cellRU[0], cellRU[1]])\n",
    "    speedLL = speed[:, dep, cellLL[0], cellLL[1]] - meanSpeed\n",
    "    speedLU = speed[:, dep, cellLU[0], cellLU[1]] - meanSpeed\n",
    "    speedRL = speed[:, dep, cellRL[0], cellRL[1]] - meanSpeed\n",
    "    speedRU = speed[:, dep, cellRU[0], cellRU[1]] - meanSpeed\n",
    "    print(speedLL, speedLU, speedRL, speedRU)\n",
    "    lL = np.zeros(2)\n",
    "    lU = np.zeros(2)\n",
    "    rL = np.zeros(2)\n",
    "    rU = np.zeros(2)\n",
    "    for i in range(2):\n",
    "        lL[i] = cellLL[i] - point[i]\n",
    "        lU[i] = cellLU[i] - point[i]\n",
    "        rL[i] = cellRL[i] - point[i]\n",
    "        rU[i] = cellRU[i] - point[i]\n",
    "    if ((np.dot(lL, speedLL) > 0) and (np.dot(lU, speedLU) > 0) and\\\n",
    "                (np.dot(rL, speedRL) > 0) and (np.dot(rU, speedRU) > 0)):\n",
    "        return cellLL, 2\n",
    "    if ((np.dot(lL, speedLL) < 0) and (np.dot(lU, speedLU) < 0) and\\\n",
    "                (np.dot(rL, speedRL) < 0) and (np.dot(rU, speedRU) < 0)):\n",
    "        return cellLL, 1\n",
    "    else:\n",
    "        return cellLL, 0"
   ]
  },
  {
   "cell_type": "code",
   "execution_count": null,
   "metadata": {},
   "outputs": [],
   "source": [
    "a = countFlo([51., 320.])\n",
    "a"
   ]
  },
  {
   "cell_type": "code",
   "execution_count": null,
   "metadata": {},
   "outputs": [],
   "source": [
    "def writingFile():\n",
    "    cells = []\n",
    "    res = []\n",
    "    for i in range(0, 4500, 50):\n",
    "        for j in range(0, 3298, 50):\n",
    "            p = [latvals[j, i], lngvals[j, i]]\n",
    "            a = countFlo(p)\n",
    "            cells.append(a[0])\n",
    "            res.append(a[1])\n",
    "    data = [cells, res]\n",
    "    csv_file = open('div.csv', 'w')\n",
    "    with csv_file:\n",
    "        writer = csv.writer(csv_file)\n",
    "        writer.writerows(data)    "
   ]
  },
  {
   "cell_type": "code",
   "execution_count": null,
   "metadata": {},
   "outputs": [],
   "source": [
    "writingFile()"
   ]
  },
  {
   "cell_type": "code",
   "execution_count": null,
   "metadata": {},
   "outputs": [],
   "source": [
    "data = [['column1','column2'],['data11','data12'],['data21','data22']]\n",
    "csv_file = open('data1.csv', 'w')\n",
    "with csv_file:\n",
    "    writer = csv.writer(csv_file)\n",
    "    writer.writerows(data)\n",
    "    print(\"Done\")\n",
    "    "
   ]
  },
  {
   "cell_type": "code",
   "execution_count": null,
   "metadata": {},
   "outputs": [],
   "source": [
    "for i in range(0, 10, 2):\n",
    "    print (i)"
   ]
  }
 ],
 "metadata": {
  "kernelspec": {
   "display_name": "Python 3",
   "language": "python",
   "name": "python3"
  },
  "language_info": {
   "codemirror_mode": {
    "name": "ipython",
    "version": 2
   },
   "file_extension": ".py",
   "mimetype": "text/x-python",
   "name": "python",
   "nbconvert_exporter": "python",
   "pygments_lexer": "ipython2",
   "version": "2.7.15rc1"
  }
 },
 "nbformat": 4,
 "nbformat_minor": 2
}
