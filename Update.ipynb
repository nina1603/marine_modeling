{
 "cells": [
  {
   "cell_type": "code",
   "execution_count": 1,
   "metadata": {},
   "outputs": [],
   "source": [
    "import netCDF4\n",
    "import numpy as np\n",
    "import datetime\n",
    "from mpl_toolkits.basemap import Basemap\n",
    "import matplotlib.pyplot as plt\n",
    "%matplotlib inline\n",
    "import math as m\n",
    "import pandas as pd"
   ]
  },
  {
   "cell_type": "markdown",
   "metadata": {},
   "source": [
    "### Reading data from file"
   ]
  },
  {
   "cell_type": "code",
   "execution_count": 2,
   "metadata": {
    "scrolled": true
   },
   "outputs": [],
   "source": [
    "f = netCDF4.Dataset('rtofs_glo_3dz_f024_daily_3zvio.nc')\n",
    "#print(f)"
   ]
  },
  {
   "cell_type": "code",
   "execution_count": 3,
   "metadata": {},
   "outputs": [],
   "source": [
    "f2 = netCDF4.Dataset('rtofs_glo_3dz_f024_daily_3zuio.nc')\n",
    "#print(f2)"
   ]
  },
  {
   "cell_type": "code",
   "execution_count": 4,
   "metadata": {},
   "outputs": [
    {
     "name": "stdout",
     "output_type": "stream",
     "text": [
      "[u'MT', u'Date', u'Depth', u'Y', u'X', u'Latitude', u'Longitude', u'v']\n"
     ]
    }
   ],
   "source": [
    "print(f.variables.keys()) # get all variable names"
   ]
  },
  {
   "cell_type": "code",
   "execution_count": 5,
   "metadata": {},
   "outputs": [],
   "source": [
    "temp = f.variables['v']\n",
    "#print(temp)"
   ]
  },
  {
   "cell_type": "code",
   "execution_count": 6,
   "metadata": {},
   "outputs": [
    {
     "name": "stdout",
     "output_type": "stream",
     "text": [
      "(u'MT', <type 'netCDF4._netCDF4.Dimension'> (unlimited): name = 'MT', size = 1\n",
      ")\n",
      "(u'Y', <type 'netCDF4._netCDF4.Dimension'>: name = 'Y', size = 3298\n",
      ")\n",
      "(u'X', <type 'netCDF4._netCDF4.Dimension'>: name = 'X', size = 4500\n",
      ")\n",
      "(u'Depth', <type 'netCDF4._netCDF4.Dimension'>: name = 'Depth', size = 33\n",
      ")\n"
     ]
    }
   ],
   "source": [
    "for d in f.dimensions.items():\n",
    "    print(d)"
   ]
  },
  {
   "cell_type": "code",
   "execution_count": 7,
   "metadata": {},
   "outputs": [
    {
     "name": "stdout",
     "output_type": "stream",
     "text": [
      "(u'MT', u'Depth', u'Y', u'X')\n",
      "(1, 33, 3298, 4500)\n"
     ]
    }
   ],
   "source": [
    "print(temp.dimensions)\n",
    "print(temp.shape)"
   ]
  },
  {
   "cell_type": "code",
   "execution_count": 6,
   "metadata": {},
   "outputs": [],
   "source": [
    "mt = f.variables['MT']\n",
    "depth = f.variables['Depth']\n",
    "x,y = f.variables['X'], f.variables['Y']\n",
    "v = f.variables['v']\n",
    "u = f2.variables['u']\n",
    "#print(mt)\n",
    "#print(x)\n",
    "#print(v)\n",
    "#print(u)"
   ]
  },
  {
   "cell_type": "markdown",
   "metadata": {},
   "source": [
    "#### Shapes of basic arrays"
   ]
  },
  {
   "cell_type": "code",
   "execution_count": 8,
   "metadata": {},
   "outputs": [
    {
     "name": "stdout",
     "output_type": "stream",
     "text": [
      "4500\n",
      "3298\n"
     ]
    }
   ],
   "source": [
    "print(x.shape[0])\n",
    "print(y.shape[0])"
   ]
  },
  {
   "cell_type": "markdown",
   "metadata": {},
   "source": [
    "#### Time and depth variables"
   ]
  },
  {
   "cell_type": "code",
   "execution_count": 7,
   "metadata": {},
   "outputs": [],
   "source": [
    "time = mt[:]  # Reads the netCDF variable MT, array of one element\n",
    "#print(time)\n",
    "dep = depth[:] # examine depth array\n",
    "#print(dep)"
   ]
  },
  {
   "cell_type": "markdown",
   "metadata": {},
   "source": [
    "### Extracting lats and lons "
   ]
  },
  {
   "cell_type": "code",
   "execution_count": 8,
   "metadata": {},
   "outputs": [],
   "source": [
    "xx,yy = x[:],y[:]\n",
    "#print('shape of temp variable: %s' % repr(temp.shape))\n",
    "#tempslice = temp[0, dep < 100., yy > yy.max()/2, xx > xx.max()/2]\n",
    "#print('shape of temp slice: %s' % repr(tempslice.shape))"
   ]
  },
  {
   "cell_type": "code",
   "execution_count": 9,
   "metadata": {},
   "outputs": [],
   "source": [
    "lat, lng = f.variables['Latitude'], f.variables['Longitude']\n",
    "#print(lng)"
   ]
  },
  {
   "cell_type": "code",
   "execution_count": 10,
   "metadata": {},
   "outputs": [],
   "source": [
    "# extract lat/lon values (in degrees) to numpy arrays\n",
    "latvals = lat[:]; lngvals = lng[:]"
   ]
  },
  {
   "cell_type": "code",
   "execution_count": 11,
   "metadata": {},
   "outputs": [
    {
     "name": "stdout",
     "output_type": "stream",
     "text": [
      "CPU times: user 3min 40s, sys: 1.53 s, total: 3min 42s\n",
      "Wall time: 3min 40s\n"
     ]
    }
   ],
   "source": [
    "%%time\n",
    "for i in range(3298):\n",
    "    for j in range(4500):\n",
    "        lngvals[i, j] -= 254.12"
   ]
  },
  {
   "cell_type": "code",
   "execution_count": 12,
   "metadata": {},
   "outputs": [
    {
     "name": "stdout",
     "output_type": "stream",
     "text": [
      "180.0\n",
      "-180.0\n"
     ]
    }
   ],
   "source": [
    "print(lngvals[0:3297, :].max())\n",
    "print(lngvals.min())"
   ]
  },
  {
   "cell_type": "markdown",
   "metadata": {},
   "source": [
    "## Initial attempt of point search"
   ]
  },
  {
   "cell_type": "markdown",
   "metadata": {},
   "source": [
    "### Решаем задачу: зная широту и долготу, найти квадрат (4 точки со значениями y и x) такой, что исходная точка лежит в этом квадрате"
   ]
  },
  {
   "cell_type": "code",
   "execution_count": 13,
   "metadata": {},
   "outputs": [],
   "source": [
    "def pointSearch(pLat, pLng):\n",
    "    goalX = -1\n",
    "    goalY = -1\n",
    "    epsX = 100.\n",
    "    epsY = 100.\n",
    "    for i in range(x.shape[0] - 1):\n",
    "        if ((lngvals[0, i]  <= pLng) & (lngvals[0, i + 1] > pLng) & (epsX > 0.01)):\n",
    "            goalX = i\n",
    "            epsX = pLng -  lngvals[0, i]\n",
    "    if (goalX == -1):\n",
    "        print('Smth with X went wrong')\n",
    "\n",
    "    for j in range(y.shape[0] - 1):\n",
    "        if (lngvals[j, goalX] > pLng):\n",
    "            while (lngvals[j, goalX] > pLng):\n",
    "                goalX -= 1\n",
    "        if (lngvals[j, goalX + 1] < pLng):\n",
    "            while (lngvals[j, goalX] < pLng):\n",
    "                goalX += 1\n",
    "        if ((latvals[j, goalX] <= pLat) & (latvals[j + 1, goalX] > pLat) & (epsY > 0.01)):\n",
    "            goalY = j\n",
    "            epsY = pLat - latvals[j, goalX]\n",
    "    if (goalY == -1):\n",
    "        print('Smth went wrong with Y')\n",
    "            \n",
    "            \n",
    "    print(goalX, goalY)\n",
    "    return (goalY, goalX)"
   ]
  },
  {
   "cell_type": "code",
   "execution_count": 16,
   "metadata": {},
   "outputs": [
    {
     "name": "stdout",
     "output_type": "stream",
     "text": [
      "Smth went wrong with Y\n",
      "(1125, -1)\n",
      "(-1, 1125)\n",
      "(89.97772, 765.0)\n"
     ]
    }
   ],
   "source": [
    "a = pointSearch(78., -120.)\n",
    "print(a)\n",
    "print(latvals[a], lngvals[a])"
   ]
  },
  {
   "cell_type": "code",
   "execution_count": 18,
   "metadata": {},
   "outputs": [
    {
     "name": "stdout",
     "output_type": "stream",
     "text": [
      "52.183796\n",
      "52.180405\n",
      "540.0056\n",
      "179.70361\n"
     ]
    }
   ],
   "source": [
    "print(latvals[3297, 4400])\n",
    "print(latvals[3270, 4400])\n",
    "print(lngvals[3297, 4400])\n",
    "print(lngvals[3270, 4400])"
   ]
  },
  {
   "cell_type": "code",
   "execution_count": 19,
   "metadata": {},
   "outputs": [
    {
     "name": "stdout",
     "output_type": "stream",
     "text": [
      "-179.95996\n",
      "179.95996\n",
      "-180.0\n",
      "540.0\n"
     ]
    }
   ],
   "source": [
    "print(lngvals[0, 0])\n",
    "print(lngvals[0, 4499])\n",
    "print(lngvals[3297, 0])\n",
    "print(lngvals[3297, 4499])"
   ]
  },
  {
   "cell_type": "code",
   "execution_count": 20,
   "metadata": {},
   "outputs": [
    {
     "name": "stdout",
     "output_type": "stream",
     "text": [
      "-180.0\n",
      "179.99988\n"
     ]
    }
   ],
   "source": [
    "print(lngvals.min())\n",
    "print(lngvals[0:3296, :].max())"
   ]
  },
  {
   "cell_type": "code",
   "execution_count": 41,
   "metadata": {},
   "outputs": [
    {
     "name": "stdout",
     "output_type": "stream",
     "text": [
      "-78.64\n",
      "89.97772\n"
     ]
    }
   ],
   "source": [
    "print(latvals.min())\n",
    "print(latvals.max())"
   ]
  },
  {
   "cell_type": "code",
   "execution_count": 14,
   "metadata": {},
   "outputs": [],
   "source": [
    "def cellIdentBool(P1, P2, P3, P4, P):\n",
    "    ex = [P2[0]-P1[0],P2[1]-P1[1]]\n",
    "    ey = [P4[0]-P1[0],P4[1]-P1[1]]\n",
    "    exs = [P4[0]-P3[0],P4[1]-P3[1]]\n",
    "    eys = [P2[0]-P3[0],P2[1]-P3[1]]\n",
    "    #print('ex, ey, exs, eys:', ex, ey, exs, eys)\n",
    "    \n",
    "    a = np.array([[ex[0], ey[0]], [ex[1], ey[1]]])\n",
    "    b = np.array([P[0]-P1[0], P[1]-P1[1]])\n",
    "    #print(\"A, b:\", a, b)\n",
    "    xxx = np.linalg.solve(a, b)\n",
    "    c = np.array([[exs[0], eys[0]], [exs[1], eys[1]]])\n",
    "    b = np.array([P[0]-P3[0], P[1]-P3[1]])\n",
    "    yyy = np.linalg.solve(c, b)\n",
    "    #if ((xxx[0]>=0 == False) or ([xxx[1]>=0] == False) or ([yyy[0]>=0] == False) or ([yyy[1]>=0] == False)):\n",
    "     #   return False\n",
    "    #else:\n",
    "    return ([xxx[0]>=0], [xxx[1]>=0], [yyy[0]>=0], [yyy[1]>=0])\n",
    "    #return ((xxx[0]>=0) and (xxx[1]>=0) and (yyy[0]>=0) and (yyy[1]>=0))"
   ]
  },
  {
   "cell_type": "code",
   "execution_count": 23,
   "metadata": {},
   "outputs": [
    {
     "name": "stdout",
     "output_type": "stream",
     "text": [
      "([True], [True], [False], [True])\n"
     ]
    }
   ],
   "source": [
    "print(cellIdentBool([-58.394382, 122.079956], [-58.352432, 122.079956], \\\n",
    "                    [-58.352432, 122.160034], [-58.394382, 122.160034], [-37.352833, 122.160034]))\n"
   ]
  },
  {
   "cell_type": "code",
   "execution_count": null,
   "metadata": {},
   "outputs": [],
   "source": [
    "print(cellIdentBool([latvals[1000, 600], lngvals[1000, 600]], \\\n",
    "                     [latvals[1000, 601], lngvals[1000, 601]], \\\n",
    "                     [latvals[1001, 601], lngvals[1001, 601]], \\\n",
    "                     [latvals[1001, 600], lngvals[1001, 600]], \\\n",
    "                     [latvals[600, 599], lngvals[600, 599]]))"
   ]
  },
  {
   "cell_type": "code",
   "execution_count": null,
   "metadata": {},
   "outputs": [],
   "source": [
    "print(cellIdentBool([0.,0.], [1.,0.], [1.,1.], [0.,1.], [-0.5,-0.6]))"
   ]
  },
  {
   "cell_type": "code",
   "execution_count": null,
   "metadata": {},
   "outputs": [],
   "source": [
    "print(lngvals[1516, 4498], latvals[1516, 4498])\n",
    "print(lngvals[1516, 4499], latvals[1516, 4499])\n",
    "print(lngvals[1516, 0], latvals[1516, 0])"
   ]
  },
  {
   "cell_type": "markdown",
   "metadata": {},
   "source": [
    "### Final (so far) version of cell search"
   ]
  },
  {
   "cell_type": "code",
   "execution_count": 15,
   "metadata": {},
   "outputs": [],
   "source": [
    "def imod(i):\n",
    "    return i % x.shape[0]\n",
    "\n",
    "def jmod(j):\n",
    "    return j % y.shape[0]"
   ]
  },
  {
   "cell_type": "code",
   "execution_count": 16,
   "metadata": {},
   "outputs": [],
   "source": [
    "def searchPoint(pLat, pLng):\n",
    "    if (pLat < -78.64):\n",
    "        pLat = 89.\n",
    "    if (pLat > 89.9502):\n",
    "        pLat = -78.\n",
    "    if (pLng < -180.):\n",
    "        pLng = 180.\n",
    "    if (pLng > 180.):\n",
    "        pLng = -180.\n",
    "    res = False\n",
    "    i = int(x.shape[0] / 2)\n",
    "    j = int(y.shape[0] / 2)\n",
    "    counter = 0\n",
    "    goal = [-1, -1]\n",
    "    while (res == False):\n",
    "        counter += 1\n",
    "        if (counter > 8000):\n",
    "            return [j, i, False]\n",
    "        \n",
    "        j = jmod(j)\n",
    "        i = imod(i)\n",
    "        \n",
    "        #p1 = [lngvals[j, i], latvals[j, i]] \n",
    "        #p2 = [lngvals[j, imod(i+1)], latvals[j, imod(i+1)]]\n",
    "        #p3 = [lngvals[jmod(j+1), imod(i+1)], latvals[jmod(j+1), imod(i+1)]]\n",
    "        #p4 = [lngvals[jmod(j+1), i], latvals[jmod(j+1), i]]\n",
    "        #p = [pLng, pLat]\n",
    "        p1 = [latvals[j, i], lngvals[j, i]] \n",
    "        p2 = [latvals[j, imod(i+1)], lngvals[j, imod(i+1)]]\n",
    "        p3 = [latvals[jmod(j+1), imod(i+1)], lngvals[jmod(j+1), imod(i+1)]]\n",
    "        p4 = [latvals[jmod(j+1), i], lngvals[jmod(j+1), i]]\n",
    "        p = [pLat, pLng]\n",
    "        out = cellIdentBool(p1, p2, p3, p4, p)\n",
    "        #if (counter > 7990):\n",
    "            #print(out)\n",
    "        if ((not out[0][0]) | (not out[1][0])) :\n",
    "            if (not out[0][0]):\n",
    "                i = imod((i-1))\n",
    "            if (not out[1][0]):\n",
    "                j = jmod((j-1))\n",
    "        else:\n",
    "            if (not out[2][0]):\n",
    "                i = imod((i+1))\n",
    "            if (not out[3][0]):\n",
    "                j = jmod((j+1))\n",
    "        if ((out[0][0]) and (out[1][0]) and (out[2][0]) and (out[1][0])):\n",
    "            res = True\n",
    "            goal = [j, i, res]\n",
    "    return goal"
   ]
  },
  {
   "cell_type": "code",
   "execution_count": 29,
   "metadata": {},
   "outputs": [
    {
     "name": "stdout",
     "output_type": "stream",
     "text": [
      "(-37.352833, -131.95996)\n",
      "(-58.394382, -132.04004)\n",
      "(-58.352432, -132.04004)\n",
      "(-58.394382, -131.95996)\n",
      "(-58.352432, -131.95996)\n"
     ]
    }
   ],
   "source": [
    "print(latvals[1000, 600], lngvals[1000, 600])\n",
    "print(latvals[600, 599], lngvals[600,599])\n",
    "print(latvals[601, 599], lngvals[601,599])\n",
    "print(latvals[600, 600], lngvals[600,600])\n",
    "print(latvals[601, 600], lngvals[601,600])"
   ]
  },
  {
   "cell_type": "code",
   "execution_count": 76,
   "metadata": {},
   "outputs": [
    {
     "data": {
      "text/plain": [
       "[1000, 3787, True]"
      ]
     },
     "execution_count": 76,
     "metadata": {},
     "output_type": "execute_result"
    }
   ],
   "source": [
    "searchPoint(latvals[1000, 600], lngvals[1000, 600])"
   ]
  },
  {
   "cell_type": "code",
   "execution_count": 24,
   "metadata": {},
   "outputs": [
    {
     "name": "stdout",
     "output_type": "stream",
     "text": [
      "[1504, 2262, True]\n",
      "False\n",
      "(0.0, 0.9999951)\n"
     ]
    }
   ],
   "source": [
    "goal = searchPoint(0., 1.)\n",
    "print(goal)\n",
    "print(goal == None)\n",
    "if (goal != None):\n",
    "    print(latvals[goal[0], goal[1]], lngvals[goal[0], goal[1]])"
   ]
  },
  {
   "cell_type": "code",
   "execution_count": 17,
   "metadata": {},
   "outputs": [],
   "source": [
    "#3298 4500 \n",
    "def cellRho(lats, lngs):\n",
    "    # takes two arrays with first 4 comps as coords of cell knots and fifth comps as coords of given point\n",
    "    return np.sqrt(sum(((lats[i] - lats[4])**2 + (lngs[i] - lngs[4])**2) for i in range(0, 4)))\n",
    "\n",
    "def cellForm(y, x, goal):\n",
    "    lats = [latvals[y, x], latvals[jmod(y+1), x], latvals[y, imod(x+1)], latvals[jmod(y+1), imod(x+1)], goal[0]]\n",
    "    lngs = [lngvals[y, x], lngvals[jmod(y+1), x], lngvals[y, imod(x+1)], lngvals[jmod(y+1), imod(x+1)], goal[1]]\n",
    "    return [lats, lngs]\n",
    "\n",
    "def cellRhoMinimize(LL, goal, booly):\n",
    "    res = cellRho(cellForm(LL[0], LL[1], goal)[0], cellForm(LL[0], LL[1], goal)[1])\n",
    "    igoal = LL[1]\n",
    "    jgoal = LL[0]\n",
    "    \n",
    "    if (booly == True):\n",
    "        eps = 20\n",
    "    else:\n",
    "        eps = 300\n",
    "        \n",
    "    i = imod(LL[1] - eps)\n",
    "    j = jmod(LL[0] - eps)\n",
    "    counter1 = 0\n",
    "    counter2 = 0\n",
    "    while (counter1 < 2 * eps):\n",
    "        while (counter2 < 2 * eps):\n",
    "            counter2 += 1\n",
    "            actualRho = cellRho(cellForm(j, i, goal)[0], cellForm(j, i, goal)[1])\n",
    "            #print('i, j, rho: ' + str(i) + '  ' + str(j) + '  ' + str(actualRho))\n",
    "            if (actualRho < res):\n",
    "                res = actualRho\n",
    "                igoal = i\n",
    "                jgoal = j\n",
    "            i = imod(i + 1)\n",
    "        counter2 = 0\n",
    "        counter1 += 1\n",
    "        j = jmod(j + 1)\n",
    "        i = imod(LL[1] - eps)\n",
    "            \n",
    "    return [res, jgoal, igoal]"
   ]
  },
  {
   "cell_type": "code",
   "execution_count": 47,
   "metadata": {},
   "outputs": [],
   "source": [
    "def minim(pLat, pLng):\n",
    "    result = searchPoint(pLat, pLng)\n",
    "    LL = result[0:2] #returns [j,i]\n",
    "    booly = result[2]\n",
    "\n",
    "    LU = [jmod(LL[0] + 1), LL[1]]\n",
    "    RL = [LL[0], imod(LL[1] + 1)]\n",
    "    RU = [jmod(LL[0] + 1), imod(LL[0] + 1)]\n",
    "    localLats = [latvals[LL[0], LL[1]], latvals[LU[0], LU[1]], latvals[RL[0], RL[1]], latvals[RU[0], RU[1]], pLat]\n",
    "    localLngs = [lngvals[LL[0], LL[1]], lngvals[LU[0], LU[1]], lngvals[RL[0], RL[1]], lngvals[RU[0], RU[1]], pLng]\n",
    "    #print('given: ' + str(pLat) + ', ' + str(pLng))\n",
    "    #print('LL: ' + str(LL[0]) + ', ' + str(LL[1]))\n",
    "    #print('LU: ' + str(LU[0]) + ', ' + str(LU[1]))\n",
    "    #print('RL: ' + str(RL[0]) + ', ' + str(RL[1]))\n",
    "    #print('RU: ' + str(RU[0]) + ', ' + str(RU[1]))\n",
    "    #print('coords of cell are: \\n' + str(latvals[LL[0], LL[1]]) + ', ' + str(lngvals[LL[0], LL[1]]) + '\\n')\n",
    "    #print(str(latvals[LU[0], LU[1]]) + ', ' + str(lngvals[LU[0], LU[1]]) + '\\n')\n",
    "    #print(str(latvals[RL[0], RL[1]]) + ', ' + str(lngvals[RL[0], RL[1]]) + '\\n')\n",
    "    #print(str(latvals[RU[0], RU[1]]) + ', ' + str(lngvals[RU[0], RU[1]]) + '\\n')\n",
    "    res = cellRhoMinimize(LL, [pLat, pLng], booly)\n",
    "    rho = res[0]\n",
    "    jgoal = res[1]\n",
    "    igoal = res[2]\n",
    "    booly = result[2]\n",
    "    #print('distance in cell is: ')\n",
    "    #print('rho ' + str(rho))\n",
    "    #print('j ' + str(jgoal))\n",
    "    #print('i ' + str(igoal))\n",
    "    return res, booly"
   ]
  },
  {
   "cell_type": "code",
   "execution_count": 45,
   "metadata": {},
   "outputs": [
    {
     "name": "stdout",
     "output_type": "stream",
     "text": [
      "coords of cell are: \n",
      "0.0, 0.9999951\n",
      "\n",
      "0.079999976, 0.9999951\n",
      "\n",
      "0.0, 1.0799512\n",
      "\n",
      "0.079999976, -59.55994\n",
      "\n",
      "([0.15995115056303952, 1504, 2262], True)\n",
      "coords of cell are: \n",
      "-37.352833, -131.95996\n",
      "\n",
      "-37.28921, -131.95996\n",
      "\n",
      "-37.352833, -131.88\n",
      "\n",
      "-37.28921, -99.88001\n",
      "\n",
      "([0.14445339029571064, 999, 600], True)\n"
     ]
    }
   ],
   "source": [
    "print(minim(0., 1.))\n",
    "print(minim(latvals[1000, 600], lngvals[1000, 600]))"
   ]
  },
  {
   "cell_type": "markdown",
   "metadata": {},
   "source": [
    "### Speed define"
   ]
  },
  {
   "cell_type": "code",
   "execution_count": 19,
   "metadata": {},
   "outputs": [
    {
     "name": "stdout",
     "output_type": "stream",
     "text": [
      "(1, 33, 3298, 4500)\n",
      "(1, 33, 3298, 4500)\n"
     ]
    }
   ],
   "source": [
    "print(v.shape)\n",
    "print(u.shape)"
   ]
  },
  {
   "cell_type": "code",
   "execution_count": 20,
   "metadata": {
    "scrolled": true
   },
   "outputs": [
    {
     "name": "stdout",
     "output_type": "stream",
     "text": [
      "(3298, 4500)\n"
     ]
    }
   ],
   "source": [
    "MT = mt[:]\n",
    "print(v[0, 0, :, :].shape)"
   ]
  },
  {
   "cell_type": "code",
   "execution_count": 21,
   "metadata": {},
   "outputs": [
    {
     "name": "stdout",
     "output_type": "stream",
     "text": [
      "CPU times: user 5.41 s, sys: 2.72 s, total: 8.13 s\n",
      "Wall time: 8.24 s\n"
     ]
    }
   ],
   "source": [
    "%%time\n",
    "speed = np.zeros((2, dep.shape[0], y.shape[0], x.shape[0]))\n",
    "for i in range(len(dep)):\n",
    "    speed[0, i, :, :] = u[0, i, :, :]"
   ]
  },
  {
   "cell_type": "code",
   "execution_count": 22,
   "metadata": {},
   "outputs": [
    {
     "name": "stdout",
     "output_type": "stream",
     "text": [
      "CPU times: user 6.27 s, sys: 4.11 s, total: 10.4 s\n",
      "Wall time: 1min 48s\n"
     ]
    }
   ],
   "source": [
    "%%time\n",
    "for i in range(len(dep)):\n",
    "    speed[1, i, :, :] = v[0, i, :, :]"
   ]
  },
  {
   "cell_type": "code",
   "execution_count": 23,
   "metadata": {},
   "outputs": [
    {
     "name": "stdout",
     "output_type": "stream",
     "text": [
      "[-0.06288084  0.12272188]\n"
     ]
    }
   ],
   "source": [
    "print(speed[:, 0, 2400, 3070])"
   ]
  },
  {
   "cell_type": "code",
   "execution_count": 24,
   "metadata": {},
   "outputs": [
    {
     "name": "stdout",
     "output_type": "stream",
     "text": [
      "7.459317556561385e+36\n"
     ]
    }
   ],
   "source": [
    "print sum(sum(speed[1, 0, :, :]))"
   ]
  },
  {
   "cell_type": "markdown",
   "metadata": {},
   "source": [
    "## New bilinear Interpolation"
   ]
  },
  {
   "cell_type": "code",
   "execution_count": 25,
   "metadata": {},
   "outputs": [],
   "source": [
    "def triangleInterpol(point, dep = 0):\n",
    "    cellInfo, booly = minim(point[0], point[1])\n",
    "    cellLL = cellInfo[1:3]\n",
    "    cellLU = [jmod(cellLL[0] + 1), imod(cellLL[1])]\n",
    "    cellRL = [jmod(cellLL[0]), imod(cellLL[1] + 1)]\n",
    "    cellRU = [jmod(cellLL[0] + 1), imod(cellLL[1] + 1)]\n",
    "    vPointX = 0.\n",
    "    vPointY = 0.\n",
    "    isWater = False\n",
    "    \n",
    "    angles = np.zeros((4,3))\n",
    "    \n",
    "    xLL = [latvals[cellLL[0], cellLL[1]], lngvals[cellLL[0], cellLL[1]]]\n",
    "    xLU = [latvals[cellLU[0], cellLU[1]], lngvals[cellLU[0], cellLU[1]]]\n",
    "    xRL = [latvals[cellRL[0], cellRL[1]], lngvals[cellRL[0], cellRL[1]]]\n",
    "    xRU = [latvals[cellRU[0], cellRU[1]], lngvals[cellRU[0], cellRU[1]]]\n",
    "    an1 = cosan(xLL, xLU, xRL)\n",
    "    an2 = cosan(xLU, xRL, xLL)\n",
    "    an3 = cosan(xRL, xLL, xLU)\n",
    "    an4 = cosan(xLU, xRU, xRL)\n",
    "    an5 = cosan(xRL, xLU, xRU)\n",
    "    an6 = cosan(xRU, xRL, xLU)\n",
    "    \n",
    "    angles[0] = [an1, an2, an3]\n",
    "    angles[1] = [an4, an5, an6]\n",
    "    \n",
    "    #чем меньше an, тем больше угол\n",
    "    \n",
    "    an7 = cosan(xLL, xLU, xRU)\n",
    "    an8 = cosan(xLU, xRU, xLL)\n",
    "    an9 = cosan(xRU, xLL, xLU)\n",
    "    an10 = cosan(xRU, xRL, xLL)\n",
    "    an11 = cosan(xRL, xRU, xLL)\n",
    "    an12 = cosan(xLL, xRU, xRL)\n",
    "    \n",
    "    angles[2] = [an7, an8, an9]\n",
    "    angles[3] = [an10, an11, an12]\n",
    "    \n",
    "    trNum = [xLL, xRL, xLU]\n",
    "\n",
    "    booly1 = [trianIdentBool(xLL, xRL, xLU, point), trianIdentBool(xRU, xRL, xLU, point)]\n",
    "    booly2 = [trianIdentBool(xLL, xLU, xRU, point), trianIdentBool(xLL, xRU, xRL, point)]\n",
    "    if (booly1[0] == True):\n",
    "        max1 = min(angles[0])\n",
    "        if(booly2[0] == True):\n",
    "            max2 = min(angles[2])\n",
    "            if (max1 < max2):\n",
    "                trNum = [xLL, xRL, xLU]\n",
    "            else:\n",
    "                trNum = [xLL, xLU, xRU]\n",
    "                \n",
    "        elif(booly2[1] == True):\n",
    "            max2 = min(angles[3])\n",
    "            if (max1 < max2):\n",
    "                trNum = [xLL, xRL, xLU]\n",
    "            else:\n",
    "                trNum = [xLL, xRU, xRL]\n",
    "    elif(booly1[1] == True):\n",
    "        max1 = min(angles[1])\n",
    "        if(booly2[0] == True):\n",
    "            max2 = min(angles[2])\n",
    "            if (max1 < max2):\n",
    "                trNum = [xRU, xRL, xLU]\n",
    "            else:\n",
    "                trNum = [xLL, xLU, xRU]\n",
    "        elif(booly2[1] == True):\n",
    "            max2 = min(angles[3])\n",
    "            if (max1 < max2):\n",
    "                trNum = [xRU, xRL, xLU]\n",
    "            else:\n",
    "                trNum = [xLL, xRU, xRL]\n",
    "    \n",
    "    \n",
    "    weight = np.zeros(3)\n",
    "    xxx = basicCoords(trNum[0], trNum[1], trNum[2], point)\n",
    "    weight[0] = 1 - xxx[0] - xxx[1]\n",
    "    xxx = basicCoords(trNum[1], trNum[2], trNum[0], point)\n",
    "    weight[1] = 1 - xxx[0] - xxx[1]\n",
    "    xxx = basicCoords(trNum[2], trNum[0], trNum[1], point)\n",
    "    weight[2] = 1 - xxx[0] - xxx[1]\n",
    "    #print('Weights: ', weight[0], weight[1], weight[2])\n",
    "    \n",
    "    #kostyl\n",
    "    if (trNum == [xLL, xRL, xLU]):\n",
    "        cells = [cellLL, cellRL, cellLU]\n",
    "    elif(trNum == [xLL, xLU, xRU]):\n",
    "        cells = [cellLL, cellLU, cellRU]\n",
    "    elif(trNum == [xLL, xRU, xRL]):\n",
    "        cells = [cellLL, cellRU, cellRL]\n",
    "    elif(trNum == [xRU, xRL, xLU]):\n",
    "        cells = [RU, RL, LU]\n",
    "    \n",
    "    #print('speed:', speed[:, dep, cellLL[0], cellLL[1]], speed[:, dep, cellLU[0], cellLU[1]],\\\n",
    "     #       speed[:, dep, cellRL[0], cellRL[1]], speed[:, dep, cellRU[0], cellRU[1]])\n",
    "    \n",
    "    v11 = 0.\n",
    "    v12 = 0.\n",
    "    v21 = 0.\n",
    "    v22 = 0.\n",
    "    \n",
    "    if (speed[0, dep, cells[0][0], cells[0][1]] < 1e+30):\n",
    "        isWater = True\n",
    "        v11 = speed[0, dep,cells[0][0], cells[0][1]]\n",
    "        vPointX += v11 * weight[0]\n",
    "\n",
    "    if (speed[0, dep, cells[1][0], cells[1][1]] < 1e+30):\n",
    "        isWater = True\n",
    "        v21 = speed[0, dep, cells[1][0], cells[1][1]]\n",
    "        vPointX += v21 * weight[1]\n",
    "        \n",
    "    if (speed[0, dep, cells[2][0], cells[2][1]] < 1e+30):\n",
    "        isWater = True\n",
    "        v12 = speed[0, dep, cells[2][0], cells[2][1]]\n",
    "        vPointX += v12 * weight[2]\n",
    "        \n",
    "    for obj in (v11, v12, v21, v22):\n",
    "        obj = 0.     \n",
    "        \n",
    "    if (speed[1, dep, cells[0][0], cells[0][1]] < 1e+30):\n",
    "        isWater = True\n",
    "        v11 = speed[1, dep,cells[0][0], cells[0][1]]\n",
    "        vPointY += v11 * weight[0]\n",
    "\n",
    "    if (speed[1, dep, cells[1][0], cells[1][1]] < 1e+30):\n",
    "        isWater = True\n",
    "        v21 = speed[1, dep, cells[1][0], cells[1][1]]\n",
    "        vPointY += v21 * weight[1]\n",
    "        \n",
    "    if (speed[1, dep, cells[2][0], cells[2][1]] < 1e+30):\n",
    "        isWater = True\n",
    "        v12 = speed[1, dep, cells[2][0], cells[2][1]]\n",
    "        vPointY += v12 * weight[2]\n",
    "    \n",
    "    return [cellLL, cellLU, cellRL, cellRU], [vPointX, vPointY]"
   ]
  },
  {
   "cell_type": "code",
   "execution_count": 26,
   "metadata": {},
   "outputs": [],
   "source": [
    "def leng(x1, x2):\n",
    "    return np.sqrt((x2[0] - x1[0]) ** 2 + (x2[1] - x1[1]) ** 2)\n",
    "\n",
    "def scal(x1, x2, x3):\n",
    "    return (x2[1] - x1[1]) * (x3[1] - x1[1]) + (x2[0] - x1[0]) * (x3[0] - x1[0])\n",
    "\n",
    "def cosan(x1, x2, x3):\n",
    "    return scal(x1, x2, x3) / (leng(x1, x2) * leng(x1, x3))\n",
    "\n",
    "def trianIdentBool(P1, P2, P3, P):\n",
    "    ex = [P2[0]-P1[0],P2[1]-P1[1]]\n",
    "    ey = [P3[0]-P1[0], P3[1]-P1[1]]\n",
    "    exs = [P1[0]-P2[0],P1[1]-P2[1]]\n",
    "    eys = [P3[0]-P2[0],P3[1]-P2[1]]\n",
    "    \n",
    "    a = np.array([[ex[0], ey[0]], [ex[1], ey[1]]])\n",
    "    b = np.array([P[0]-P1[0], P[1]-P1[1]])\n",
    "\n",
    "    try:\n",
    "        xxx = np.linalg.solve(a, b)\n",
    "    except:\n",
    "        print('ex, ey, exs, eys: ', ex, ey, exs, eys)\n",
    "        print(\"A, b: \", a, b)\n",
    "    c = np.array([[exs[0], eys[0]], [exs[1], eys[1]]])\n",
    "    b = np.array([P[0]-P3[0], P[1]-P3[1]])\n",
    "    try:\n",
    "        yyy = np.linalg.solve(c, b)\n",
    "    except:\n",
    "        print('ex, ey, exs, eys: ', ex, ey, exs, eys)\n",
    "        print(\"C, b: \", c, b)\n",
    "        \n",
    "    return ((xxx[0]>=0) and (xxx[1]>=0) and (yyy[0]>=0) and (yyy[1]>=0))\n",
    "\n",
    "def basicCoords(P1, P2, P3, P):\n",
    "    ex = [P2[0]-P1[0],P2[1]-P1[1]]\n",
    "    ey = [P3[0]-P1[0],P3[1]-P1[1]]\n",
    "    \n",
    "    a = np.array([[ex[0], ey[0]], [ex[1], ey[1]]])\n",
    "    b = np.array([P[0]-P1[0], P[1]-P1[1]])\n",
    "\n",
    "    try:\n",
    "        xxx = np.linalg.solve(a, b)\n",
    "    except:\n",
    "        print('ex, ey, exs, eys: ', ex, ey, exs, eys)\n",
    "        print(\"A, b: \", a, b)\n",
    "    return xxx"
   ]
  },
  {
   "cell_type": "code",
   "execution_count": 27,
   "metadata": {},
   "outputs": [
    {
     "name": "stdout",
     "output_type": "stream",
     "text": [
      "([[1629, 3249], [1630, 3249], [1629, 3250], [1630, 3250]], [-0.24402153259182124, -0.01811012814478156])\n"
     ]
    }
   ],
   "source": [
    "a = triangleInterpol([10., 80.])\n",
    "print(a)"
   ]
  },
  {
   "cell_type": "code",
   "execution_count": 62,
   "metadata": {},
   "outputs": [
    {
     "data": {
      "text/plain": [
       "([[1110, 2499], [1111, 2499], [1110, 2500], [1111, 2500]],\n",
       " [-0.09978995901946439, 0.12708754386390209])"
      ]
     },
     "execution_count": 62,
     "metadata": {},
     "output_type": "execute_result"
    }
   ],
   "source": [
    "triangleInterpol([-30., 20.])"
   ]
  },
  {
   "cell_type": "code",
   "execution_count": 63,
   "metadata": {},
   "outputs": [
    {
     "data": {
      "text/plain": [
       "([[957, 3374], [958, 3374], [957, 3375], [958, 3375]],\n",
       " [0.06346007384781656, 0.07372341480388511])"
      ]
     },
     "execution_count": 63,
     "metadata": {},
     "output_type": "execute_result"
    }
   ],
   "source": [
    "triangleInterpol([-40., 90.])"
   ]
  },
  {
   "cell_type": "code",
   "execution_count": 51,
   "metadata": {},
   "outputs": [
    {
     "data": {
      "text/plain": [
       "([[2258, 3001], [2259, 3001], [2258, 3002], [2259, 3002]],\n",
       " [0.2285478950839059, 0.024900332048384936])"
      ]
     },
     "execution_count": 51,
     "metadata": {},
     "output_type": "execute_result"
    }
   ],
   "source": [
    "triangleInterpol([51., 60.])"
   ]
  },
  {
   "cell_type": "code",
   "execution_count": null,
   "metadata": {},
   "outputs": [],
   "source": [
    "triangleInterpol([51., 320.])"
   ]
  },
  {
   "cell_type": "markdown",
   "metadata": {},
   "source": [
    "### Real data"
   ]
  },
  {
   "cell_type": "code",
   "execution_count": null,
   "metadata": {},
   "outputs": [],
   "source": [
    "file = pd.read_csv('sample.csv')"
   ]
  },
  {
   "cell_type": "code",
   "execution_count": null,
   "metadata": {},
   "outputs": [],
   "source": [
    "file.shape"
   ]
  },
  {
   "cell_type": "code",
   "execution_count": null,
   "metadata": {},
   "outputs": [],
   "source": [
    "file.head()"
   ]
  },
  {
   "cell_type": "code",
   "execution_count": null,
   "metadata": {},
   "outputs": [],
   "source": [
    "file.columns"
   ]
  },
  {
   "cell_type": "code",
   "execution_count": null,
   "metadata": {},
   "outputs": [],
   "source": [
    "data = file['TARA_20091118T0841Z_023_EVENT_PUMP_P_S_(5-7m)_BACT_NUC-DNA(100L)_W0.22-1.6_TARA_E500000075\\t42.2038\\t17.715\\t3\\t7']"
   ]
  },
  {
   "cell_type": "code",
   "execution_count": null,
   "metadata": {},
   "outputs": [],
   "source": [
    "latits = []\n",
    "longs = []\n",
    "depths1 = []\n",
    "depths2 = []"
   ]
  },
  {
   "cell_type": "code",
   "execution_count": null,
   "metadata": {},
   "outputs": [],
   "source": [
    "FILE =  open('sample.csv')"
   ]
  },
  {
   "cell_type": "code",
   "execution_count": null,
   "metadata": {
    "scrolled": false
   },
   "outputs": [],
   "source": [
    "for line in FILE.readlines():\n",
    "    fields = line.split('\\t')\n",
    "    latits.append(float(fields[1]))\n",
    "    longs.append(float(fields[2]) + 255.)\n",
    "    depths1.append(int(fields[3]))\n",
    "    depths2.append(int(fields[4]))"
   ]
  },
  {
   "cell_type": "code",
   "execution_count": null,
   "metadata": {},
   "outputs": [],
   "source": [
    "len(longs)"
   ]
  },
  {
   "cell_type": "code",
   "execution_count": null,
   "metadata": {},
   "outputs": [],
   "source": [
    "for i in range(len(longs)):\n",
    "    dep1 = int(depths1[i] / 10)\n",
    "    dep2 = int(depths2[i] / 10)\n",
    "    print(dep1, dep2)\n",
    "    triangleInterpol([latits[i], longs[i]], dep1)\n",
    "    triangleInterpol([latits[i], longs[i]], dep2)"
   ]
  },
  {
   "cell_type": "markdown",
   "metadata": {},
   "source": [
    "### Divergence"
   ]
  },
  {
   "cell_type": "code",
   "execution_count": 36,
   "metadata": {},
   "outputs": [
    {
     "data": {
      "text/plain": [
       "(2, 33, 3298, 4500)"
      ]
     },
     "execution_count": 36,
     "metadata": {},
     "output_type": "execute_result"
    }
   ],
   "source": [
    "speed.shape"
   ]
  },
  {
   "cell_type": "code",
   "execution_count": 37,
   "metadata": {},
   "outputs": [],
   "source": [
    "import csv"
   ]
  },
  {
   "cell_type": "code",
   "execution_count": 41,
   "metadata": {},
   "outputs": [],
   "source": [
    "def countFlo(point, dep = 0):\n",
    "    cells =  np.zeros((4, 2))\n",
    "    cells, [vPointX, vPointY] = triangleInterpol(point)\n",
    "    \n",
    "\n",
    "    meanSpeed = 0.25 * (speed[:, dep, cells[0][0], cells[0][1]] + speed[:, dep, cells[1][0], cells[1][1]] +\\\n",
    "                        speed[:, dep, cells[2][0], cells[2][1]] + speed[:, dep, cells[3][0], cells[3][1]])\n",
    "    center = [0.25 * (lngvals[cells[0][0], cells[0][1]] + lngvals[cells[1][0], cells[1][1]] +\\\n",
    "                      lngvals[cells[2][0], cells[2][1]] + lngvals[cells[3][0], cells[3][1]]),\\\n",
    "              0.25 * (latvals[cells[0][0], cells[0][1]] + latvals[cells[1][0], cells[1][1]] +\\\n",
    "                      latvals[cells[2][0], cells[2][1]] + latvals[cells[3][0], cells[3][1]])]\n",
    "    \n",
    "    speedLL = speed[:, dep, cells[0][0], cells[0][1]] - meanSpeed\n",
    "    speedLU = speed[:, dep, cells[1][0], cells[1][1]] - meanSpeed\n",
    "    speedRL = speed[:, dep, cells[2][0], cells[2][1]] - meanSpeed\n",
    "    speedRU = speed[:, dep, cells[3][0], cells[3][1]] - meanSpeed\n",
    "    #print(speedLL, speedLU, speedRL, speedRU)\n",
    "    \n",
    "    vectors = np.zeros((4, 2))\n",
    "    for i in range(4):\n",
    "        vectors[i, 0] = lngvals[cells[i][0], cells[i][1]] - center[0]\n",
    "        vectors[i, 1] = latvals[cells[i][0], cells[i][1]] - center[1]\n",
    "    \n",
    "    if ((np.dot(vectors[0], speedLL) > 0) and (np.dot(vectors[1], speedLU) > 0) and\\\n",
    "                (np.dot(vectors[2], speedRL) > 0) and (np.dot(vectors[3], speedRU) > 0)):\n",
    "        return [cells[0], 2]\n",
    "    if ((np.dot(vectors[0], speedLL) < 0) and (np.dot(vectors[1], speedLU) < 0) and\\\n",
    "                (np.dot(vectors[2], speedRL) < 0) and (np.dot(vectors[3], speedRU) < 0)):\n",
    "        return [cells[0], 1]\n",
    "    else:\n",
    "        return [cells[0], 0]"
   ]
  },
  {
   "cell_type": "code",
   "execution_count": 42,
   "metadata": {},
   "outputs": [
    {
     "data": {
      "text/plain": [
       "list"
      ]
     },
     "execution_count": 42,
     "metadata": {},
     "output_type": "execute_result"
    }
   ],
   "source": [
    "a = countFlo([-20, 30.])\n",
    "type(a)"
   ]
  },
  {
   "cell_type": "code",
   "execution_count": 71,
   "metadata": {},
   "outputs": [],
   "source": [
    "def writingFile():\n",
    "    data = []\n",
    "    for i in range(-78, 89, 1):\n",
    "        for j in range(-180, 180, 1):\n",
    "            a = countFlo([i, j])\n",
    "            data.append(a)\n",
    "    csv_file = open('div2.csv', 'w')\n",
    "    with csv_file:\n",
    "        writer = csv.writer(csv_file)\n",
    "        writer.writerows(data) "
   ]
  },
  {
   "cell_type": "markdown",
   "metadata": {},
   "source": [
    "#### Не запускать без необходимости!"
   ]
  },
  {
   "cell_type": "code",
   "execution_count": 48,
   "metadata": {},
   "outputs": [
    {
     "name": "stdout",
     "output_type": "stream",
     "text": [
      "CPU times: user 10h 18min 3s, sys: 4.08 s, total: 10h 18min 7s\n",
      "Wall time: 10h 22min 10s\n"
     ]
    }
   ],
   "source": [
    "%%time\n",
    "writingFile()"
   ]
  },
  {
   "cell_type": "code",
   "execution_count": null,
   "metadata": {},
   "outputs": [],
   "source": [
    "#data = [['column1','column2'],['data11','data12'],['data21','data22']]\n",
    "#csv_file = open('data1.csv', 'w')\n",
    "#with csv_file:\n",
    "    #writer = csv.writer(csv_file)\n",
    "    #writer.writerows(data)\n",
    "    #print(\"Done\")\n",
    "    "
   ]
  },
  {
   "cell_type": "markdown",
   "metadata": {},
   "source": [
    "### Прикольная визуализация ячейки и точки"
   ]
  },
  {
   "cell_type": "code",
   "execution_count": 28,
   "metadata": {},
   "outputs": [],
   "source": [
    "from matplotlib import patches"
   ]
  },
  {
   "cell_type": "code",
   "execution_count": 36,
   "metadata": {},
   "outputs": [],
   "source": [
    "def CountCos(cell, point, vPoint):\n",
    "    vec = np.zeros(2)    \n",
    "    vec = [cell[0] - point[0], cell[1] - point[1]]\n",
    "    dots = np.dot(vPoint, vec)\n",
    "    mods = np.sqrt((vec[0]**2 + vec[1]**2) * (vPoint[0] ** 2 + vPoint[1] ** 2))\n",
    "    coss = dots / mods\n",
    "    return coss"
   ]
  },
  {
   "cell_type": "code",
   "execution_count": 41,
   "metadata": {},
   "outputs": [],
   "source": [
    "def TrajStep(point, n = 1):\n",
    "    cells = np.zeros((4, 2))\n",
    "    vPoint = np.zeros(2)\n",
    "    cells, vPoint = triangleInterpol(point)\n",
    "    cellLL, cellLU, cellRL, cellRU = cells\n",
    "    array = np.array([[latvals[cellLL[0], cellLL[1]], lngvals[cellLL[0], cellLL[1]]],\\\n",
    "                      [latvals[cellLU[0], cellLU[1]], lngvals[cellLU[0], cellLU[1]]], \n",
    "                      [latvals[cellRU[0], cellRU[1]], lngvals[cellRU[0], cellRU[1]]],\n",
    "                      [latvals[cellRL[0], cellRL[1]], lngvals[cellRL[0], cellRL[1]]]]) \n",
    "    #print(array) \n",
    "    fig,ax = plt.subplots(figsize = (10, 6))\n",
    "\n",
    "    poly = patches.Polygon(array, True, alpha=0.6) \n",
    "    ax.add_patch(poly) \n",
    "    veloc = patches.Arrow(point[0], point[1], vPoint[0] * 0.1,\\\n",
    "                                                       vPoint[1]* 0.1, width = 0.005, color = 'red')\n",
    "    ax.add_patch(veloc)\n",
    "    ax.scatter(point[0],point[1], color=\"crimson\", zorder=6) \n",
    "    \n",
    "    vec = np.zeros((4, 2))\n",
    "    arrow = []\n",
    "    for i in range(4):\n",
    "        vec[i] = [latvals[cells[i][0], cells[i][1]] - point[0],lngvals[cells[i][0], cells[i][1]] - point[1]]\n",
    "        arrow.append(patches.Arrow(point[0], point[1], vec[i][0], vec[i][1], width = 0.003))\n",
    "        ax.add_patch(arrow[i])\n",
    "    \n",
    "    plt.show()\n",
    "    \n",
    "    cosin = np.zeros(4)\n",
    "    \n",
    "    for i in range(4):\n",
    "        cosin[i] = CountCos(array[i], point, vPoint)\n",
    "    #print(cosin, np.argmax(cosin))\n",
    "    edge = np.argmax(cosin)\n",
    "    newcells = np.zeros((4, 2))\n",
    "    if (cosin[edge] > 0.7):\n",
    "        #угол очень мал, значит, переход по диагонали\n",
    "        newcells[(edge + 2)%4] = cells[edge]\n",
    "        #newcells[(edge + 3)%4] = \n",
    "        \n",
    "    #cellLU = [jmod(cellLL[0] + 1), imod(cellLL[1])]\n",
    "    #cellRL = [jmod(cellLL[0]), imod(cellLL[1] + 1)]\n",
    "    #cellRU = [jmod(cellLL[0] + 1), imod(cellLL[1] + 1)]\n",
    "    \n",
    "    else:\n",
    "        #угол больше 45, но меньше 90 - переступаем через границу ячейки\n",
    "        newcells[(edge-1)%4] = cells[edge]\n",
    "        "
   ]
  },
  {
   "cell_type": "markdown",
   "metadata": {},
   "source": [
    "#### Порядок следования ячеек - LL, RL, LU, RU"
   ]
  },
  {
   "cell_type": "code",
   "execution_count": 42,
   "metadata": {},
   "outputs": [
    {
     "name": "stdout",
     "output_type": "stream",
     "text": [
      "[[50.954266 59.938717]\n",
      " [50.998104 59.934444]\n",
      " [51.001194 60.014767]\n",
      " [50.95732  60.01904 ]]\n"
     ]
    },
    {
     "data": {
      "image/png": "[encoded data removed]",
      "text/plain": [
       "<Figure size 720x432 with 1 Axes>"
      ]
     },
     "metadata": {
      "needs_background": "light"
     },
     "output_type": "display_data"
    },
    {
     "name": "stdout",
     "output_type": "stream",
     "text": [
      "(array([-0.68137432, -0.1370024 ,  0.18807742, -0.86375063]), 2)\n"
     ]
    }
   ],
   "source": [
    "TrajStep([51., 60.])"
   ]
  },
  {
   "cell_type": "code",
   "execution_count": 43,
   "metadata": {},
   "outputs": [
    {
     "name": "stdout",
     "output_type": "stream",
     "text": [
      "[[ 75.73984  99.94482]\n",
      " [ 75.77347  99.96435]\n",
      " [ 75.76858 100.1018 ]\n",
      " [ 75.73497 100.0819 ]]\n"
     ]
    },
    {
     "data": {
      "image/png": "[encoded data removed]",
      "text/plain": [
       "<Figure size 720x432 with 1 Axes>"
      ]
     },
     "metadata": {
      "needs_background": "light"
     },
     "output_type": "display_data"
    },
    {
     "name": "stdout",
     "output_type": "stream",
     "text": [
      "(array([-0.08509678, -0.0997372 , -0.19240772, -0.20987084]), 0)\n"
     ]
    }
   ],
   "source": [
    "Traj([77., 100.])"
   ]
  },
  {
   "cell_type": "code",
   "execution_count": 205,
   "metadata": {},
   "outputs": [
    {
     "data": {
      "image/png": "[encoded data removed]",
      "text/plain": [
       "<Figure size 720x432 with 1 Axes>"
      ]
     },
     "metadata": {
      "needs_background": "light"
     },
     "output_type": "display_data"
    },
    {
     "name": "stdout",
     "output_type": "stream",
     "text": [
      "[ 0.08908543  0.99999923 -0.99556485  0.00644489]\n"
     ]
    }
   ],
   "source": [
    "Traj([-23., -46.])"
   ]
  },
  {
   "cell_type": "code",
   "execution_count": 48,
   "metadata": {},
   "outputs": [
    {
     "name": "stdout",
     "output_type": "stream",
     "text": [
      "[[0.         0.9999951 ]\n",
      " [0.07999998 0.9999951 ]\n",
      " [0.07999998 1.0799512 ]\n",
      " [0.         1.0799512 ]]\n"
     ]
    },
    {
     "data": {
      "image/png": "[encoded data removed]",
      "text/plain": [
       "<Figure size 720x432 with 1 Axes>"
      ]
     },
     "metadata": {
      "needs_background": "light"
     },
     "output_type": "display_data"
    },
    {
     "name": "stdout",
     "output_type": "stream",
     "text": [
      "(array([-0.58255539, -0.8128266 ,  0.58255539, -0.16310224]), 2)\n"
     ]
    }
   ],
   "source": [
    "Traj([0., 1.])"
   ]
  }
 ],
 "metadata": {
  "kernelspec": {
   "display_name": "Python 3",
   "language": "python",
   "name": "python3"
  },
  "language_info": {
   "codemirror_mode": {
    "name": "ipython",
    "version": 2
   },
   "file_extension": ".py",
   "mimetype": "text/x-python",
   "name": "python",
   "nbconvert_exporter": "python",
   "pygments_lexer": "ipython2",
   "version": "2.7.15rc1"
  }
 },
 "nbformat": 4,
 "nbformat_minor": 2
}
